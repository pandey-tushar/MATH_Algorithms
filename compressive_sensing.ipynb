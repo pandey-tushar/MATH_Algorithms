{
 "cells": [
  {
   "cell_type": "markdown",
   "metadata": {},
   "source": [
    "# Project "
   ]
  },
  {
   "cell_type": "markdown",
   "metadata": {},
   "source": [
    "## scipy.optimize and cvxpy\n",
    "\n",
    "This project could be completed with any optimization package, but we recommend that you first try with scipy.optimize, and if you wish additionally with [cvxpy](https://www.cvxpy.org/index.html).  We will provide solutions for both scipy.optimize and cvxpy after you submit your project.\n",
    "\n",
    "Also, note that the `scipy.optimize.linprog` supports only `'interior-point'`, `'revised simplex'` and `'simplex'`, while CVX supports many others which may provide better results.\n",
    "\n",
    "If you are using the Anaconda package as was suggested at the beginning of the course you will already have scipy.optimize.  However, you may not have cvxpy.  The cvxpy package provides a much more understandable and easier means of implementing and performing various optimizations.  If you wish to try this check out the [cvxpy installation instructions](https://www.cvxpy.org/install/) for your system.  **Note**: Your system may have multiple installations of python, anaconda, and/or pip.  Do yourself a favor and verify all paths to your installation and to the conda, pip or other tools you are using to install external packages.  If you use the wrong one the package will not be available in your working environment."
   ]
  },
  {
   "cell_type": "markdown",
   "metadata": {},
   "source": [
    "## Helper Functions\n",
    "\n",
    "The following block contains several plotting functions along with a function to create a random sparse signal, a function to output the status of optimize, and a function to load images using PIL."
   ]
  },
  {
   "cell_type": "code",
   "execution_count": 3,
   "metadata": {},
   "outputs": [],
   "source": [
    "import matplotlib.pyplot as plt\n",
    "import math\n",
    "import numpy as np\n",
    "from scipy.optimize import linprog, minimize\n",
    "from PIL import Image\n",
    "import cvxpy as cp\n",
    "import pywt\n",
    "\n",
    "\n",
    "def plot_sparse_vectors(vec_a, vec_b, **kwargs):\n",
    "    \"\"\"\n",
    "    Plots the passed arrays in one or three separate subplots.\n",
    "    If 'full' is specifed as True then the following three subplots\n",
    "    will be generated:\n",
    "        - The topmost subplot contains both arrays; vec_a will be \n",
    "          drawn first twice as thick as vec_b.  The title will be \n",
    "          set if 'title' is specified.\n",
    "        - The bottom left subplot contains only the vec_a, and will\n",
    "          be given a tilte is 'title_a' is specified. \n",
    "        - The bottom right subplot contains only the vec_b, and will\n",
    "          be given a tilte is 'title_b' is specified.  \n",
    "    If 'full' is not specified or is False, then a single subplot \n",
    "    will generated as follows:\n",
    "        - The plot contains both arrays; vec_a will be drawn first\n",
    "          twice as thick as vec_b.  The title will be set if 'title'\n",
    "          is specified.\n",
    "    \"\"\"\n",
    "    use_full_layout = 'full' in kwargs and kwargs['full']\n",
    "    \n",
    "    if use_full_layout:\n",
    "        fig = plt.figure(figsize=(12, 6))\n",
    "        gs = fig.add_gridspec(2, 2)\n",
    "    else:\n",
    "        fig = plt.figure(figsize=(12, 3))\n",
    "        gs = fig.add_gridspec(1, 1)\n",
    "    \n",
    "    ax = fig.add_subplot(gs[0,:])\n",
    "    if 'title' in kwargs:\n",
    "        ax.set_title(kwargs['title'], fontsize=10)\n",
    "    plt.plot(vec_a, 'g', linewidth=4)\n",
    "    plt.plot(vec_b, 'r', linewidth=2)\n",
    "\n",
    "    if use_full_layout:\n",
    "        ax = fig.add_subplot(gs[1,0])\n",
    "        if 'title_a' in kwargs:\n",
    "            ax.set_title(kwargs['title_a'], fontsize=10)\n",
    "        plt.plot(vec_a, 'g', linewidth=2)\n",
    "\n",
    "        ax = fig.add_subplot(gs[1,1])\n",
    "        if 'title_b' in kwargs:\n",
    "            ax.set_title(kwargs['title_b'], fontsize=10)\n",
    "        plt.plot(vec_b, 'r', linewidth=2)\n",
    "\n",
    "    plt.show()\n",
    "    \n",
    "    \n",
    "def plot_image_comparison(img_left, img_right, \n",
    "                          title_left, title_right):\n",
    "    \"\"\"\n",
    "    Plots img_left and img_right as subplots on the same row.\n",
    "    The title_left and title_right are supplied to img_left\n",
    "    and img_right, respectively.\n",
    "    \"\"\"\n",
    "    fig = plt.figure(figsize=(12, 6))\n",
    "    ax = fig.add_subplot(1, 2, 1)\n",
    "    ax.imshow(img_left, cmap=plt.cm.gray)\n",
    "    ax.set_title(title_left, fontsize=16)\n",
    "    ax.set_xticks([])\n",
    "    ax.set_yticks([])\n",
    "\n",
    "    ax = fig.add_subplot(1, 2, 2)\n",
    "    ax.imshow(img_right, cmap=plt.cm.gray)\n",
    "    ax.set_title(title_right, fontsize=16)\n",
    "    ax.set_xticks([])\n",
    "    ax.set_yticks([])\n",
    "\n",
    "    fig.tight_layout()\n",
    "    plt.show()\n",
    "    \n",
    "    \n",
    "def create_sparse_signal(N,s):\n",
    "    \"\"\"\n",
    "    Returns a length N array containing s random values drawn from\n",
    "    a standard normal distribution.  The remaining N-s values are \n",
    "    set to zero.\n",
    "    \"\"\"\n",
    "    # Create a mask with `s` randomly selected elements set to True\n",
    "    mask = np.full(N, False)\n",
    "    mask[:s] = True\n",
    "    np.random.shuffle(mask)\n",
    "\n",
    "    # Define an s-sparse vector using random values\n",
    "    x = np.zeros(N)\n",
    "    x[mask] = np.random.randn(s)\n",
    "    return x\n",
    "\n",
    "\n",
    "def output_linprog_status(res):\n",
    "    \"\"\"\n",
    "    Outputs the state of the optimization at the return of scipy.optimize.linprog\n",
    "    or scipy.optimize.minimize.\n",
    "    \"\"\"\n",
    "    print('Message:', res.message)\n",
    "    print('Success:', res.success)\n",
    "    print('Objective Value:', res.fun)\n",
    "    print('Number of Iterations:', res.nit)\n",
    "\n",
    "    print('Exit Status:')\n",
    "    if res.status == 0:\n",
    "        print('  Optimization proceeding nominally.')\n",
    "    elif res.status == 1:\n",
    "        print('  Iteration limit reached.')\n",
    "    elif res.status == 2:\n",
    "        print('  Problem appears to be infeasible.')\n",
    "    elif res.status == 3:\n",
    "        print('  Problem appears to be unbounded.')\n",
    "    elif res.status == 4:\n",
    "        print('  Numerical difficulties encountered.')\n",
    "    else:\n",
    "        print('Unknown.')    \n",
    "\n",
    "        \n",
    "# Alias for linprog status output - minimize and linprog return the same structure\n",
    "output_minimize_status = output_linprog_status\n",
    "\n",
    "\n",
    "def output_cvxpy_status(problem):\n",
    "    # Output optimation final status\n",
    "    print('Objective Value:', problem.value)\n",
    "    print('Number of Iterations:', problem.solver_stats.num_iters)\n",
    "\n",
    "    print('Exit Status:', problem.status)\n",
    "\n",
    "    \n",
    "def output_opt_status(opt_res):\n",
    "    if type(opt_res) is cp.problems.problem.Problem:\n",
    "        output_cvxpy_status(opt_res)\n",
    "    else:\n",
    "        output_linprog_status(opt_res) # minimize uses the same function\n",
    "\n",
    "        \n",
    "def load_image(filename):\n",
    "    \"\"\"\n",
    "    Loads an image, specified by filename, and returns a 2D array whose values \n",
    "    are in the range [0,1].\n",
    "    \"\"\"\n",
    "    # load the image \n",
    "    img = Image.open(filename).convert('L')\n",
    "    # convert image data to numpy array with values in [0,1]\n",
    "    img_arr = np.divide(np.asarray(img), 255.0)\n",
    "    \n",
    "    return img_arr\n",
    "\n"
   ]
  },
  {
   "cell_type": "markdown",
   "metadata": {},
   "source": [
    "##  Encoding / Decoding"
   ]
  },
  {
   "cell_type": "code",
   "execution_count": 4,
   "metadata": {},
   "outputs": [],
   "source": [
    "\n",
    "def create_observation_matrix(m, N):\n",
    "    \"\"\"\n",
    "    This function returns an mxN array of random values from a\n",
    "    standard normal distribution scaled by sqrt( pi / 2m ).\n",
    "    \"\"\"\n",
    "    mat = np.random.normal(size=(m,N))\n",
    "    return mat*np.sqrt(np.pi/(2*m))\n",
    "\n",
    "def create_observation_vector(A, x):\n",
    "    \"\"\"\n",
    "    This function uses the observation matrix A (mxN) to project the \n",
    "    sparse vector x (Nx1) to a lower dimensional space.  The reduced\n",
    "    vector (mx1) is returned.\n",
    "    \"\"\"\n",
    "    return A@x"
   ]
  },
  {
   "cell_type": "markdown",
   "metadata": {},
   "source": [
    "Complete the `optimize()` function below using `scipy.optimize.linprog`, `scipy.optimize.minimize` or cvxpy."
   ]
  },
  {
   "cell_type": "markdown",
   "metadata": {},
   "source": [
    "**Hint**: If using linprog, when using the interior point method, consider setting 'sparse':True, 'cholesky':False, and 'sym_pos':False in the `options` dictionary (see [scipy.optimize.linprog](https://docs.scipy.org/doc/scipy/reference/generated/scipy.optimize.linprog.html#scipy-optimize-linprog) and [options for interior-point](https://docs.scipy.org/doc/scipy/reference/optimize.linprog-interior-point.html#linprog-method-interior-point))."
   ]
  },
  {
   "cell_type": "code",
   "execution_count": 75,
   "metadata": {},
   "outputs": [],
   "source": [
    "def optimize(A, y):\n",
    "    \"\"\"\n",
    "    Uses the observation matrix and observation vector to produce\n",
    "    the objective function, equality constraints, inequality \n",
    "    constraints, and bounds to be passed to linprog, minimize or cvxpy.\n",
    "    This function then performs the optimization and returns the\n",
    "    structure returned by linprog or minimize (or problem from cvxpy).\n",
    "    \"\"\"    \n",
    "    N = A.shape[1]\n",
    "    m = A.shape[0]\n",
    "    c = np.hstack((np.zeros(N), np.ones(N)))\n",
    "    A_eq = np.hstack((A, np.zeros((m,N))))\n",
    "    A_ub = np.vstack((np.hstack((np.eye(N),              np.negative(np.eye(N)))),\n",
    "                  np.hstack((np.negative(np.eye(N)), np.negative(np.eye(N)))))) \n",
    "    b_ub = np.zeros(2*N)\n",
    "    bounds = [(None,None)]*N + [(None,None)]*N\n",
    "    res = linprog(c, \n",
    "              A_eq=A_eq, b_eq=y, \n",
    "              A_ub=A_ub, b_ub=b_ub,\n",
    "              bounds=bounds, options={'sparse': True, 'cholesky':False, 'sym_pos':False})\n",
    "    return res,res.x[:N]"
   ]
  },
  {
   "cell_type": "markdown",
   "metadata": {},
   "source": [
    "## Test Code\n",
    "\n",
    "### Setup\n",
    "\n",
    "The following code block uses your implementation to generate a sparse input vector of length N, as well as creates the observation matrix, A, and the observation vector, y."
   ]
  },
  {
   "cell_type": "code",
   "execution_count": 76,
   "metadata": {},
   "outputs": [],
   "source": [
    "\n",
    "# Original signal dimension\n",
    "N = 500\n",
    "# Reduced dimension\n",
    "m = 150\n",
    "# Sparsity - number of non-zeros in signal\n",
    "s = 20\n",
    "\n",
    "# Define an s-sparse vector using random values\n",
    "x = create_sparse_signal(N,s)\n",
    "\n",
    "\n",
    "# Define the observation matrix, R^{m x N}\n",
    "A = create_observation_matrix(m, N)\n",
    "\n",
    "\n",
    "# Define the observation vector, R^m\n",
    "y = create_observation_vector(A,x)\n"
   ]
  },
  {
   "cell_type": "markdown",
   "metadata": {},
   "source": [
    "The following code block plots the original sparse signal."
   ]
  },
  {
   "cell_type": "code",
   "execution_count": 77,
   "metadata": {},
   "outputs": [
    {
     "data": {
      "text/plain": [
       "[<matplotlib.lines.Line2D at 0x22d56861ac8>]"
      ]
     },
     "execution_count": 77,
     "metadata": {},
     "output_type": "execute_result"
    },
    {
     "data": {
      "image/png": "[encoded data removed]",
      "text/plain": [
       "<Figure size 864x216 with 1 Axes>"
      ]
     },
     "metadata": {
      "needs_background": "light"
     },
     "output_type": "display_data"
    }
   ],
   "source": [
    "\n",
    "fig = plt.figure(figsize=(12, 3))\n",
    "plt.plot(x, 'g', linewidth=2)"
   ]
  },
  {
   "cell_type": "markdown",
   "metadata": {},
   "source": [
    "### Perform Optimization\n",
    "\n",
    "The following code block runs your optimiation, outputs the status, reovery error and number of non-zeros in the result and thresholded result."
   ]
  },
  {
   "cell_type": "code",
   "execution_count": 78,
   "metadata": {},
   "outputs": [
    {
     "name": "stdout",
     "output_type": "stream",
     "text": [
      "Message: Optimization terminated successfully.\n",
      "Success: True\n",
      "Objective Value: 13.604916913862024\n",
      "Number of Iterations: 8\n",
      "Exit Status:\n",
      "  Optimization proceeding nominally.\n",
      "L2-recovery error: 1.3651797501501208e-09\n",
      "Result vector has 500 non-zeros out of 500\n",
      "Thresholded result vector has 20 non-zeros out of 500\n"
     ]
    },
    {
     "data": {
      "image/png": "[encoded data removed]",
      "text/plain": [
       "<Figure size 864x432 with 3 Axes>"
      ]
     },
     "metadata": {
      "needs_background": "light"
     },
     "output_type": "display_data"
    }
   ],
   "source": [
    "opt_res, xstar = optimize(A, y)\n",
    "\n",
    "# Output optimation final status \n",
    "output_opt_status(opt_res)\n",
    "\n",
    "# Output the L2 recovery error, norm(x-xstar)\n",
    "print('L2-recovery error:', np.linalg.norm(x-xstar))\n",
    "\n",
    "# Output the number of non-zeros \n",
    "print('Result vector has', np.count_nonzero(xstar), \n",
    "      'non-zeros out of', N)\n",
    "\n",
    "# Threshold near-zero values and count 'non-zeros'\n",
    "z = xstar.copy()\n",
    "z[np.abs(z) < 1e-8] = 0  # set 'small' values to zero\n",
    "print('Thresholded result vector has', np.count_nonzero(z), \n",
    "      'non-zeros out of', N)\n",
    "\n",
    "# plot the input and recovered vectors\n",
    "plot_sparse_vectors(x,z, full=True,\n",
    "                    title='Combined', \n",
    "                    title_a='Original',\n",
    "                    title_b='Recovered')\n"
   ]
  },
  {
   "cell_type": "markdown",
   "metadata": {},
   "source": [
    "## Your Solution: Wavelets\n"
   ]
  },
  {
   "cell_type": "code",
   "execution_count": 79,
   "metadata": {},
   "outputs": [],
   "source": [
    "def decompose_image(img_arr, wavelet='haar'):\n",
    "    \"\"\"\n",
    "    This function takes a 2D array of image coefficients in the \n",
    "    range [0,1] and uses pywt.wavedec2 to decompose those \n",
    "    coefficients into wavelet coefficients.  It also uses \n",
    "    pywt.coeffs_to_array to reorder those coefficients and create\n",
    "    our coefficient array and slicing data.  \n",
    "    The coefficients and slicing data are both returned by this \n",
    "    function.\n",
    "    \"\"\"\n",
    "    # https://pywavelets.readthedocs.io/en/latest/ref/wavelets.html#wavelet-families\n",
    "    coeff = pywt.wavedec2(img_arr,wavelet)\n",
    "    return pywt.coeffs_to_array(coeff)\n",
    "\n",
    "\n",
    "def recontruct_image(coeffs_arr, coeffs_slices, wavelet='haar'):\n",
    "    \"\"\"\n",
    "    This function takes wavelet coefficients and slicing data \n",
    "    (as produced by pywt.coeffs_to_array) and uses pywt.array_to_coeffs\n",
    "    and pywt.waverec2 to reconstruct an image (a 2D array).\n",
    "    The reconstructed image is returned.\n",
    "    \"\"\"\n",
    "    coeff_from_array = pywt.array_to_coeffs(coeffs_arr, coeffs_slices,output_format='wavedec2')\n",
    "    return pywt.waverec2(coeff_from_array, wavelet)"
   ]
  },
  {
   "cell_type": "code",
   "execution_count": 80,
   "metadata": {},
   "outputs": [],
   "source": [
    "def create_sparse_wavelet_signal(coeffs_arr, s):\n",
    "    \"\"\"\n",
    "    Returns a copy of coeffs_arr where all values are zero except\n",
    "    the s largest values, no matter where they appear in the array.\n",
    "    \"\"\"\n",
    "    copied_list = coeffs_arr.copy().flatten()\n",
    "    vec = np.zeros(len(copied_list))\n",
    "    indices = np.argsort(np.abs(copied_list))[-s:]\n",
    "    for idx in indices:\n",
    "        vec[idx] = copied_list[idx]\n",
    "    return vec"
   ]
  },
  {
   "cell_type": "markdown",
   "metadata": {},
   "source": [
    "## Test Code\n"
   ]
  },
  {
   "cell_type": "markdown",
   "metadata": {},
   "source": [
    "### Setup: Load the input image"
   ]
  },
  {
   "cell_type": "code",
   "execution_count": 81,
   "metadata": {},
   "outputs": [
    {
     "data": {
      "text/plain": [
       "<matplotlib.image.AxesImage at 0x22d567c8248>"
      ]
     },
     "execution_count": 81,
     "metadata": {},
     "output_type": "execute_result"
    },
    {
     "data": {
      "image/png": "[encoded data removed]",
      "text/plain": [
       "<Figure size 432x288 with 1 Axes>"
      ]
     },
     "metadata": {
      "needs_background": "light"
     },
     "output_type": "display_data"
    }
   ],
   "source": [
    "img_arr = load_image('shapes2_32.jpg')\n",
    "plt.imshow(img_arr, cmap='gray')\n"
   ]
  },
  {
   "cell_type": "markdown",
   "metadata": {},
   "source": [
    "### Setup: Wavelet Decomposition\n",
    "\n",
    "Decompose the `img_arr` into wavelet coefficients and some bookkeeping data used by `pywt.wavedec2` and `pywt.waverec2`."
   ]
  },
  {
   "cell_type": "code",
   "execution_count": 82,
   "metadata": {},
   "outputs": [],
   "source": [
    "# Transform the 2D image data and get the separated coefficient data\n",
    "# and slice indexing data\n",
    "coeffs_arr, coeffs_slices = decompose_image(img_arr)"
   ]
  },
  {
   "cell_type": "markdown",
   "metadata": {},
   "source": [
    "### Setup: Wavelet Reconstruction - Sanity Check\n",
    "\n",
    "Sanity Check: Reconstruct the image from your decomposition to ensure that it matches the original input."
   ]
  },
  {
   "cell_type": "code",
   "execution_count": 83,
   "metadata": {
    "scrolled": true
   },
   "outputs": [
    {
     "name": "stdout",
     "output_type": "stream",
     "text": [
      "L_inf between original and reconstruction: 4.0190073491430667e-14\n"
     ]
    },
    {
     "data": {
      "image/png": "[encoded data removed]",
      "text/plain": [
       "<Figure size 864x432 with 2 Axes>"
      ]
     },
     "metadata": {},
     "output_type": "display_data"
    }
   ],
   "source": [
    "img_recon = recontruct_image(coeffs_arr, coeffs_slices)\n",
    "\n",
    "# Compute difference between img_arr and img_recon\n",
    "print('L_inf between original and reconstruction:',\n",
    "      np.linalg.norm(img_arr - img_recon, np.inf))\n",
    "\n",
    "# Visually verify the reconstruction output\n",
    "plot_image_comparison(img_arr, img_recon, 'Original', 'Reconstruction')\n"
   ]
  },
  {
   "cell_type": "markdown",
   "metadata": {},
   "source": [
    "### Setup: Remove 'small' coefficients\n",
    "\n",
    "The following block sets our values for `N`, `m` and `s`, and creates a sparse input signal from the input `coeffs_arr`."
   ]
  },
  {
   "cell_type": "code",
   "execution_count": 84,
   "metadata": {},
   "outputs": [
    {
     "name": "stdout",
     "output_type": "stream",
     "text": [
      "Signal Length (N) = 1024\n",
      "Reduced Dimension (m) = 512\n",
      "Sparsity (s) = 204\n"
     ]
    }
   ],
   "source": [
    "# Find the number of coefficients in the signal\n",
    "N = coeffs_arr.shape[0]*coeffs_arr.shape[1]\n",
    "\n",
    "# Choose m \n",
    "m = math.floor(.5 * N)\n",
    "\n",
    "# Choose s\n",
    "s = math.floor(.4 * m)\n",
    "\n",
    "# Create our sparse input signal from the wavelet coefficients\n",
    "x = create_sparse_wavelet_signal(coeffs_arr, s)\n",
    "\n",
    "\n",
    "print('Signal Length (N) =', N)\n",
    "print('Reduced Dimension (m) =', m)\n",
    "print('Sparsity (s) =', s)"
   ]
  },
  {
   "cell_type": "markdown",
   "metadata": {},
   "source": [
    "Plot the input `coeffs_arr` and the sparse `x` on top of one another."
   ]
  },
  {
   "cell_type": "code",
   "execution_count": 85,
   "metadata": {},
   "outputs": [
    {
     "data": {
      "image/png": "[encoded data removed]",
      "text/plain": [
       "<Figure size 864x216 with 1 Axes>"
      ]
     },
     "metadata": {
      "needs_background": "light"
     },
     "output_type": "display_data"
    }
   ],
   "source": [
    "plot_sparse_vectors(coeffs_arr.reshape(N),x,\n",
    "                    title='Original vs s-Sparse Vector')"
   ]
  },
  {
   "cell_type": "markdown",
   "metadata": {},
   "source": [
    "### Setup: Wavelet Reconstruction (2) - Sanity Check\n",
    "\n",
    "Verify that the sparse version of the coefficient array can be used to reconstruct the original image well."
   ]
  },
  {
   "cell_type": "code",
   "execution_count": 86,
   "metadata": {},
   "outputs": [
    {
     "name": "stdout",
     "output_type": "stream",
     "text": [
      "L_inf between original and sparse reconstruction: 0.022549019607850163\n"
     ]
    },
    {
     "data": {
      "image/png": "[encoded data removed]",
      "text/plain": [
       "<Figure size 864x432 with 2 Axes>"
      ]
     },
     "metadata": {},
     "output_type": "display_data"
    }
   ],
   "source": [
    "# Reshape the sparse coefficient array to match the original input image\n",
    "sparse_coeffs_arr = x.reshape(coeffs_arr.shape[0], \n",
    "                              coeffs_arr.shape[1])\n",
    "\n",
    "# reconstruct the image from the sparse coefficient array\n",
    "sparse_img_recon = recontruct_image(sparse_coeffs_arr, coeffs_slices)\n",
    "\n",
    "# Compute difference between img_arr and sparse_img_recon\n",
    "print('L_inf between original and sparse reconstruction:',\n",
    "      np.linalg.norm(img_arr - sparse_img_recon, np.inf))\n",
    "\n",
    "# Visually verify the reconstruction output\n",
    "plot_image_comparison(img_arr, sparse_img_recon, 'Original', 'Sparse Reconstruction')\n"
   ]
  },
  {
   "cell_type": "markdown",
   "metadata": {},
   "source": [
    "### Setup: Create observation matrix and vector\n",
    "\n",
    "Use the previous implementation of `create_observation_matrix` and `create_observation_vector` to generate the observation vector from `x`."
   ]
  },
  {
   "cell_type": "code",
   "execution_count": 87,
   "metadata": {},
   "outputs": [],
   "source": [
    "# Define the observation matrix, R^{m x N}\n",
    "A = create_observation_matrix(m, N)\n",
    "\n",
    "\n",
    "# Define the observation vector, R^m\n",
    "y = create_observation_vector(A,x)\n"
   ]
  },
  {
   "cell_type": "markdown",
   "metadata": {},
   "source": [
    "### Perform Optimization (this may take some time)\n",
    "\n",
    "The following code blocks runs your optimiation, outputs the status, reovery error and number of non-zeros in the result and thresholded result."
   ]
  },
  {
   "cell_type": "code",
   "execution_count": 88,
   "metadata": {},
   "outputs": [
    {
     "name": "stdout",
     "output_type": "stream",
     "text": [
      "Message: Optimization terminated successfully.\n",
      "Success: True\n",
      "Objective Value: 115.07598044058147\n",
      "Number of Iterations: 18\n",
      "Exit Status:\n",
      "  Optimization proceeding nominally.\n",
      "L2-recovery error: 7.474585486830889e-07\n",
      "Result Vector has 1024 non-zeros out of 1024\n",
      "Result Vector has 415 non-zeros out of 1024\n"
     ]
    },
    {
     "data": {
      "image/png": "[encoded data removed]",
      "text/plain": [
       "<Figure size 864x432 with 3 Axes>"
      ]
     },
     "metadata": {
      "needs_background": "light"
     },
     "output_type": "display_data"
    }
   ],
   "source": [
    "\n",
    "opt_res, xstar = optimize(A, y)\n",
    "\n",
    "# Output optimation final status \n",
    "output_opt_status(opt_res)\n",
    "\n",
    "# Output the L2 recovery error, norm(x-xstar)\n",
    "print('L2-recovery error:', np.linalg.norm(x-xstar))\n",
    "\n",
    "# Output the number of non-zeros \n",
    "print('Result Vector has', np.count_nonzero(xstar), \n",
    "      'non-zeros out of', N)\n",
    "\n",
    "# Threshold near-zero values and count 'non-zeros'\n",
    "z = xstar.copy()\n",
    "z[np.abs(z) < 1e-8] = 0\n",
    "print('Result Vector has', np.count_nonzero(z), \n",
    "      'non-zeros out of', N)\n",
    "\n",
    "# plot the input and recovered vectors\n",
    "plot_sparse_vectors(x,z, full=True,\n",
    "                    title='Combined', \n",
    "                    title_a='Original',\n",
    "                    title_b='Recovered')"
   ]
  },
  {
   "cell_type": "markdown",
   "metadata": {},
   "source": [
    "### Wavelet Reconstruct from L1-minimization\n",
    "\n",
    "Use the reconstructed values to perform the wavelet reconstruction and compare with the original input."
   ]
  },
  {
   "cell_type": "code",
   "execution_count": 89,
   "metadata": {},
   "outputs": [
    {
     "name": "stdout",
     "output_type": "stream",
     "text": [
      "L_inf between original and reconstruction: 0.02254941177502867\n"
     ]
    },
    {
     "data": {
      "image/png": "[encoded data removed]",
      "text/plain": [
       "<Figure size 864x432 with 2 Axes>"
      ]
     },
     "metadata": {},
     "output_type": "display_data"
    }
   ],
   "source": [
    "# Reshape the reconstructed coefficient array to match the original input image\n",
    "coeffs_decode_arr = z.reshape(coeffs_arr.shape[0], \n",
    "                              coeffs_arr.shape[1])\n",
    "\n",
    "# reconstruct the image from the reconstructed coefficient array\n",
    "l1_img_recon = recontruct_image(coeffs_decode_arr, coeffs_slices)\n",
    "\n",
    "# Compute difference between img_arr and img_recon\n",
    "print('L_inf between original and reconstruction:',\n",
    "      np.linalg.norm(img_arr - l1_img_recon, np.inf))\n",
    "\n",
    "# Visually verify the reconstruction output\n",
    "plot_image_comparison(img_arr, l1_img_recon, 'Original', 'Reconstruction')\n"
   ]
  }
 ],
 "metadata": {
  "kernelspec": {
   "display_name": "Python 3",
   "language": "python",
   "name": "python3"
  },
  "language_info": {
   "codemirror_mode": {
    "name": "ipython",
    "version": 3
   },
   "file_extension": ".py",
   "mimetype": "text/x-python",
   "name": "python",
   "nbconvert_exporter": "python",
   "pygments_lexer": "ipython3",
   "version": "3.7.6"
  }
 },
 "nbformat": 4,
 "nbformat_minor": 2
}
