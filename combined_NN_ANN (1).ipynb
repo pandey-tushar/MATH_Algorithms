{
 "cells": [
  {
   "cell_type": "markdown",
   "metadata": {},
   "source": [
    "# Warning\n",
    "\n",
    "The solution notebook took about an hour, in total, to run with the dimension and number of points given below.  You should test this on smaller data sets and give yourself time to run the entire notebook before submitting."
   ]
  },
  {
   "cell_type": "markdown",
   "metadata": {},
   "source": [
    "# Project"
   ]
  },
  {
   "cell_type": "markdown",
   "metadata": {},
   "source": [
    "## Overview\n",
    "Given a fixed collection of `N` points in $\\mathbb{R}^k$, this project consists of implementing algorithms to find the closest point to the input data $y \\in \\mathbb{R}^k$.\n",
    "Here closest is measured in the Euclidian norm. "
   ]
  },
  {
   "cell_type": "markdown",
   "metadata": {},
   "source": [
    "## Helper Functions"
   ]
  },
  {
   "cell_type": "code",
   "execution_count": 2,
   "metadata": {},
   "outputs": [],
   "source": [
    "import math\n",
    "import numpy as np\n",
    "from scipy import linalg\n",
    "from scipy import spatial\n",
    "import time\n",
    "import matplotlib.pyplot as plt  \n",
    "\n",
    "run_time_start = time.perf_counter()\n",
    "\n",
    "# Compute distance between two points \n",
    "def distance(x,y):\n",
    "    return linalg.norm(x-y.reshape(x.shape))\n",
    "\n"
   ]
  },
  {
   "cell_type": "markdown",
   "metadata": {},
   "source": [
    "## Solution: Nearest Neighbors - Generating Data\n",
    "\n",
    "Complete the function `create_column_data` to generate randomly (uniform distribution) `N` points in $\\mathbb{R}^k$.  The generated data should be of type `np.array` and have shape `(k, N)`.  Column based data is chosen because the operations we wish to perform on our data will largely use individual points (columns).  **Hint:** The default memory layout for `np.array` is row-major, which means that our column-based operations will need to stride through memory to access the elements of interest, which is not cache-friendly.  When implementing this function pay particular attention to the `order` argument in `np.array`. "
   ]
  },
  {
   "cell_type": "code",
   "execution_count": 3,
   "metadata": {},
   "outputs": [],
   "source": [
    "\n",
    "def create_column_data(num_elements, dimension, \n",
    "                       lower_bound = -1.0, upper_bound = 1.0):    \n",
    "    \"\"\"\n",
    "    The returned np.array has number of cols=num_elements and number of rows=dimension.\n",
    "    Each column of the returned object is a data point containing values that \n",
    "    fall in the half-open interval [lower_bound, upper_bound).  The memory layout of\n",
    "    the returned np.array is Fortran order (column major).\n",
    "    \"\"\"\n",
    "    \n",
    "    return np.array(np.random.uniform(lower_bound, upper_bound, size = (dimension, num_elements)), order = 'F')\n",
    "\n"
   ]
  },
  {
   "cell_type": "markdown",
   "metadata": {},
   "source": [
    "### Test Code\n",
    "\n",
    "Run the following code block to create our input data `X` and a test point `y` using your implementation of `create_column_data`.  `X` should be an `np.array` consisting of 100,000 points in $\\mathbb{R}^{1000}$.  "
   ]
  },
  {
   "cell_type": "code",
   "execution_count": 4,
   "metadata": {},
   "outputs": [],
   "source": [
    "\n",
    "num_elements = 100000\n",
    "data_dimension = 1000\n",
    "\n",
    "\n",
    "X = create_column_data(num_elements, data_dimension, -1.0, 1.0)\n",
    "y = create_column_data(1, data_dimension, -1.0, 1.0)"
   ]
  },
  {
   "cell_type": "markdown",
   "metadata": {},
   "source": [
    "## Brute Force\n",
    "\n",
    "This function takes a test point and a data set (where each column is a data point), and exhaustively computes the distance between the test point and every point in the data set.  The point in the data set with minimal distance to the test point should be returned along with its index as a tuple as follows: `(integer, np.array)`, where `integer` can be any integer type, e.g. `np.int64`, and `np.array` is the nearest point.  The `np.array` in the output should have shape `(k,)`.  In the event that multiple points in the data set are equidistant from the test point, you may arbitrarily choose which to return. If either of the passed arguments are `None` then `(None, None)` should be returned."
   ]
  },
  {
   "cell_type": "code",
   "execution_count": 5,
   "metadata": {},
   "outputs": [],
   "source": [
    "\n",
    "def nn_brute_force(test_point, data):\n",
    "    \"\"\"\n",
    "    Computes the distance between test_point and every column in data.  The function\n",
    "    assumes that the number of elements in test_point matches the length of each column\n",
    "    in data.  The column with minimum distance is returned via a tuple containing the\n",
    "    index of the column from data and the column itelf with shape modified to match \n",
    "    test_point.  Note that this function returns a view of the column from data and not\n",
    "    a copy.\n",
    "    \"\"\"\n",
    "    if test_point is None or data is None:\n",
    "        return (None, None)\n",
    "    test_point = test_point.reshape((test_point.shape[0],))\n",
    "    dist = 1e+10\n",
    "    indx = 0\n",
    "    for i in range(data.shape[1]):\n",
    "        test_dist = distance(test_point, data[:,i])\n",
    "        if dist > test_dist:\n",
    "            dist = test_dist\n",
    "            indx = i\n",
    "            continue    \n",
    "    return (indx, data[:,indx])\n",
    "        \n"
   ]
  },
  {
   "cell_type": "markdown",
   "metadata": {},
   "source": [
    "### Test Code\n"
   ]
  },
  {
   "cell_type": "code",
   "execution_count": 6,
   "metadata": {},
   "outputs": [
    {
     "name": "stdout",
     "output_type": "stream",
     "text": [
      "Nearest Neighbor found at index 29360 with distance 23.64971168325293\n"
     ]
    }
   ],
   "source": [
    "(idx, nn) = nn_brute_force(y, X)\n",
    "vec = nn\n",
    "brute_force_idx = idx\n",
    "brute_force_distance = distance(y, nn)\n",
    "print(f'Nearest Neighbor found at index {brute_force_idx} with distance {brute_force_distance}')"
   ]
  },
  {
   "cell_type": "markdown",
   "metadata": {},
   "source": [
    "Choose 10 random points from the data set and verify that `nn_brute_force` returns the correct point in each test.  \n"
   ]
  },
  {
   "cell_type": "code",
   "execution_count": 7,
   "metadata": {},
   "outputs": [
    {
     "name": "stdout",
     "output_type": "stream",
     "text": [
      "TEST 85375: SUCCESS\n",
      "TEST 81172: SUCCESS\n",
      "TEST 85296: SUCCESS\n",
      "TEST 18931: SUCCESS\n",
      "TEST 41368: SUCCESS\n",
      "TEST 49488: SUCCESS\n",
      "TEST 36062: SUCCESS\n",
      "TEST 11279: SUCCESS\n",
      "TEST 6351: SUCCESS\n",
      "TEST 36455: SUCCESS\n"
     ]
    }
   ],
   "source": [
    "num_test_points = 10\n",
    "\n",
    "for i in np.random.choice(num_elements, num_test_points):\n",
    "    test_point = X[:,i]\n",
    "    (idx, nn) = nn_brute_force(test_point, X)\n",
    "    if idx != i:\n",
    "        if distance(X[:,i], nn) == 0.0:\n",
    "            print(f'* WARNING: Duplicate data point was found! --OR-- ERROR: Incorrect index returned (wanted {i}, found {idx})')\n",
    "        else:\n",
    "            print('* ERROR: Incorrect data point returned for test index', i)\n",
    "    elif distance(X[:,i], nn) > 0.0:\n",
    "        print('* ERROR: Incorrect data point returned for test index', i)\n",
    "    else:\n",
    "        print(f'TEST {i}: SUCCESS')\n",
    "        "
   ]
  },
  {
   "cell_type": "code",
   "execution_count": 8,
   "metadata": {},
   "outputs": [
    {
     "name": "stdout",
     "output_type": "stream",
     "text": [
      "TEST ([None, <class 'numpy.ndarray'>]): SUCCESS\n",
      "TEST ([<class 'numpy.ndarray'>, None]): SUCCESS\n",
      "TEST ([None, None]): SUCCESS\n"
     ]
    }
   ],
   "source": [
    "arguments = [[None, X], \n",
    "             [y, None],\n",
    "             [None, None]]\n",
    "\n",
    "for arg in arguments:\n",
    "    str_args = [type(a) if a is not None else None for a in arg]\n",
    "    if nn_brute_force(*arg) != (None, None):\n",
    "        print(f'TEST ({str_args}): Failed')\n",
    "    else:\n",
    "        print(f'TEST ({str_args}): SUCCESS')\n"
   ]
  },
  {
   "cell_type": "markdown",
   "metadata": {},
   "source": [
    "## kd-trees\n",
    "\n",
    "This function should create a `scipy.spatial.KDTree` from the passed data and return the tree object.  If the passed data is `None` then `None` should be returned."
   ]
  },
  {
   "cell_type": "code",
   "execution_count": 9,
   "metadata": {},
   "outputs": [],
   "source": [
    "\n",
    "def nn_create_kd_tree(data):\n",
    "    \"\"\"\n",
    "    data is a set of column-based points to be spatially sorted into a kd-tree.\n",
    "    This function returns a scipy.spatial.KDTree object representing data or \n",
    "    None if data is None.\n",
    "    \"\"\"\n",
    "    if data is None:\n",
    "        return None\n",
    "    return spatial.KDTree(data.T)\n"
   ]
  },
  {
   "cell_type": "markdown",
   "metadata": {},
   "source": [
    "This function takes a test_point and a `scipy.spatial.KDTree` as arguments, and queries the tree for the closest point to the test_point.  The point in the tree with minimal distance to the test point should be returned along with its index as a tuple as follows: `(integer, np.array)`, where `integer` can be any integer type, e.g. `np.int64`, and `np.array` is the nearest point.  The `np.array` in the output should have shape `(k,)`.  In the event that multiple points in the data set are equidistant from the test point, you may arbitrarily choose which to return.  If either of the passed arguments are `None` then `(None, None)` should be returned."
   ]
  },
  {
   "cell_type": "code",
   "execution_count": 10,
   "metadata": {},
   "outputs": [],
   "source": [
    "\n",
    "def nn_query_kd_tree(test_point, tree):\n",
    "    \"\"\"\n",
    "    Given a test_point and a scipy.spatial.KDTree this function queries the\n",
    "    kd-tree for the closest point to test_point.  The function returns a tuple\n",
    "    containing the index of the closest point in the tree along with the \n",
    "    closest point itself reshaped to match the shape of test_point.  \n",
    "    If either argument is None then (None, None) is returned.\n",
    "    \"\"\"\n",
    "    if test_point is None or tree is None:\n",
    "        return (None, None)\n",
    "    dist, indx = tree.query(test_point.T)\n",
    "    vec = tree.data[indx].T\n",
    "    return (indx, vec)\n",
    "\n"
   ]
  },
  {
   "cell_type": "markdown",
   "metadata": {},
   "source": [
    "### Test Code\n"
   ]
  },
  {
   "cell_type": "code",
   "execution_count": 11,
   "metadata": {},
   "outputs": [
    {
     "name": "stdout",
     "output_type": "stream",
     "text": [
      "Nearest Neighbor found at index [29360] with distance 23.64971168325293\n",
      "Brute Force and KDTree give the same distance.\n"
     ]
    }
   ],
   "source": [
    "\n",
    "tree = nn_create_kd_tree(X)\n",
    "(idx, nn) = nn_query_kd_tree(y, tree)\n",
    "kdtree_idx = idx\n",
    "kdtree_distance = distance(y, nn)\n",
    "print(f'Nearest Neighbor found at index {kdtree_idx} with distance {kdtree_distance}')\n",
    "if kdtree_distance != brute_force_distance:\n",
    "    print('Brute Force and KDTree give different results.  Something is amiss.')\n",
    "else:\n",
    "    print('Brute Force and KDTree give the same distance.')\n"
   ]
  },
  {
   "cell_type": "markdown",
   "metadata": {},
   "source": [
    "Choose 10 random points from the data set and verify that `nn_query_kd_tree` returns the correct point in each test.  \n"
   ]
  },
  {
   "cell_type": "code",
   "execution_count": 12,
   "metadata": {},
   "outputs": [
    {
     "name": "stdout",
     "output_type": "stream",
     "text": [
      "TEST 95427: SUCCESS\n",
      "TEST 1701: SUCCESS\n",
      "TEST 75104: SUCCESS\n",
      "TEST 5827: SUCCESS\n",
      "TEST 21329: SUCCESS\n",
      "TEST 39462: SUCCESS\n",
      "TEST 97305: SUCCESS\n",
      "TEST 16432: SUCCESS\n",
      "TEST 83908: SUCCESS\n",
      "TEST 60177: SUCCESS\n"
     ]
    }
   ],
   "source": [
    "\n",
    "num_test_points = 10\n",
    "\n",
    "for i in np.random.choice(num_elements, num_test_points):\n",
    "    test_point = X[:,i]\n",
    "    (idx, nn) = nn_query_kd_tree(test_point, tree)\n",
    "    if idx != i:\n",
    "        if distance(X[:,i], nn) == 0.0:\n",
    "            print(f'* WARNING: Duplicate data point was found! --OR-- ERROR: Incorrect index returned (wanted {i}, found {idx})')\n",
    "        else:\n",
    "            print('* ERROR: Incorrect data point returned for test index', i)\n",
    "    elif distance(X[:,i], nn) > 0.0:\n",
    "        print('* ERROR: Incorrect data point returned for test index', i)\n",
    "    else:\n",
    "        print(f'TEST {i}: SUCCESS')\n",
    "        "
   ]
  },
  {
   "cell_type": "markdown",
   "metadata": {},
   "source": [
    "Verify that `(None, None)` is returned if either argument is `None`."
   ]
  },
  {
   "cell_type": "code",
   "execution_count": 13,
   "metadata": {},
   "outputs": [
    {
     "name": "stdout",
     "output_type": "stream",
     "text": [
      "TEST ([None, <class 'scipy.spatial.kdtree.KDTree'>]): SUCCESS\n",
      "TEST ([<class 'numpy.ndarray'>, None]): SUCCESS\n",
      "TEST ([None, None]): SUCCESS\n",
      "TEST ([<class 'numpy.ndarray'>, None]): SUCCESS\n"
     ]
    }
   ],
   "source": [
    "arguments = [[None, tree], \n",
    "             [y, None],\n",
    "             [None, None],\n",
    "             [y, nn_create_kd_tree(None)]]\n",
    "\n",
    "for arg in arguments:\n",
    "    str_args = [type(a) if a is not None else None for a in arg]\n",
    "    if nn_query_kd_tree(*arg) != (None, None):\n",
    "        print(f'TEST ({str_args}): Failed')\n",
    "    else:\n",
    "        print(f'TEST ({str_args}): SUCCESS')\n"
   ]
  },
  {
   "cell_type": "markdown",
   "metadata": {},
   "source": [
    "## Performance"
   ]
  },
  {
   "cell_type": "code",
   "execution_count": 14,
   "metadata": {},
   "outputs": [],
   "source": [
    "\n",
    "num_time_tests = 100\n",
    "queries = create_column_data(num_time_tests, data_dimension)\n"
   ]
  },
  {
   "cell_type": "code",
   "execution_count": 15,
   "metadata": {
    "scrolled": true
   },
   "outputs": [
    {
     "name": "stdout",
     "output_type": "stream",
     "text": [
      "Brute Force:\n",
      "    Total Query Time: 70.07050713803619 seconds\n",
      "    Average Query Time: 0.7007050713803619 seconds\n",
      "    Total Time: 70.07050713803619 seconds\n"
     ]
    }
   ],
   "source": [
    "# test {num_time_tests} queries using brute force\n",
    "start = time.perf_counter()\n",
    "for query in queries.T:\n",
    "    (idx, nn) = nn_brute_force(query, X)\n",
    "stop = time.perf_counter()\n",
    "query_time = stop - start\n",
    "\n",
    "brute_force_total_time = query_time\n",
    "\n",
    "print('Brute Force:')\n",
    "print(f'    Total Query Time: {query_time} seconds')\n",
    "print(f'    Average Query Time: {query_time/num_time_tests} seconds')\n",
    "print(f'    Total Time: {brute_force_total_time} seconds')\n"
   ]
  },
  {
   "cell_type": "code",
   "execution_count": 16,
   "metadata": {},
   "outputs": [
    {
     "name": "stdout",
     "output_type": "stream",
     "text": [
      "KDTreee:\n",
      "    Total Query Time: 69.84060185216367 seconds\n",
      "    Average Query Time: 0.6984060185216368 seconds\n",
      "    Tree Build Time: 2.6172071150504053 seconds\n",
      "    Total Time: 72.45780896721408 seconds\n"
     ]
    }
   ],
   "source": [
    "# test {num_time_tests} queries using kdtree\n",
    "start = time.perf_counter()\n",
    "tree = nn_create_kd_tree(X)  \n",
    "stop = time.perf_counter()\n",
    "tree_build_time = stop - start\n",
    "\n",
    "start = time.perf_counter()\n",
    "for query in queries.T:\n",
    "    (idx, nn) = nn_query_kd_tree(query, tree)\n",
    "stop = time.perf_counter()\n",
    "query_time = stop - start\n",
    "\n",
    "kdtree_total_time = query_time + tree_build_time\n",
    "\n",
    "print('KDTreee:')\n",
    "print(f'    Total Query Time: {query_time} seconds')\n",
    "print(f'    Average Query Time: {query_time/num_time_tests} seconds')\n",
    "print(f'    Tree Build Time: {tree_build_time} seconds')\n",
    "print(f'    Total Time: {kdtree_total_time} seconds')\n"
   ]
  },
  {
   "cell_type": "markdown",
   "metadata": {},
   "source": [
    "## Approximate Nearest Neighbors - Setup\n",
    "\n",
    "Complete the function `create_projection_matrix` to create a matrix whose entries are normally distributed.  This matrix will be used to project data generated by `create_column_data` to a lower dimension. "
   ]
  },
  {
   "cell_type": "code",
   "execution_count": 17,
   "metadata": {},
   "outputs": [],
   "source": [
    "\n",
    "def create_projection_matrix(n, m): \n",
    "    \"\"\"\n",
    "    Returns an np.array with n rows and m columns whose values are ranomly sampled\n",
    "    from a normal distribution (0.0, 1.0).  The memory layout for the returned\n",
    "    np.array will be row-major.\n",
    "    \"\"\"\n",
    "    return np.array(np.random.normal(0.0, 1.0, size = (n, m)))/math.sqrt(n)\n",
    "    \n",
    "\n"
   ]
  },
  {
   "cell_type": "markdown",
   "metadata": {},
   "source": [
    "### Test Code\n"
   ]
  },
  {
   "cell_type": "code",
   "execution_count": 18,
   "metadata": {},
   "outputs": [
    {
     "name": "stdout",
     "output_type": "stream",
     "text": [
      "Creating map from dimension 1000 to 70\n"
     ]
    }
   ],
   "source": [
    "# Fix C and epsilon and use Johnson-Lindenstrauss Lemma from the notes to \n",
    "# find the smallest reduced dimension (k in the notes)\n",
    "C = 2.5 # C \\in (0,\\inf)\n",
    "epsilon = 0.5 # epsilon \\in (0,\\inf)\n",
    "# k >= C log(n) / eps**2, we use ceiling to ensure k is an integer for our map\n",
    "reduced_dimension = math.ceil(C * math.log(data_dimension) / epsilon**2)\n",
    "\n",
    "print('Creating map from dimension', data_dimension, 'to', reduced_dimension)\n",
    "A = create_projection_matrix(reduced_dimension, data_dimension)\n"
   ]
  },
  {
   "cell_type": "markdown",
   "metadata": {},
   "source": [
    "Run the following code blocks to test your brute force and kd-tree implementations on the projected data set."
   ]
  },
  {
   "cell_type": "code",
   "execution_count": 19,
   "metadata": {},
   "outputs": [
    {
     "name": "stdout",
     "output_type": "stream",
     "text": [
      "Reduced Dimension Nearest Neighbor found at index 57387 with distance 24.680951617320286 in original space\n",
      "Original Nearest Neighbor found at index 29360 with distance 23.64971168325293\n"
     ]
    }
   ],
   "source": [
    "\n",
    "(idx, nn) = nn_brute_force(A@y, A@X)\n",
    "\n",
    "reduced_dim_brute_force_distance = distance(y, X[:,idx])\n",
    "print(f'Reduced Dimension Nearest Neighbor found at index {idx} with distance {reduced_dim_brute_force_distance} in original space')\n",
    "print(f'Original Nearest Neighbor found at index {brute_force_idx} with distance {brute_force_distance}')\n",
    "\n"
   ]
  },
  {
   "cell_type": "code",
   "execution_count": 20,
   "metadata": {},
   "outputs": [
    {
     "name": "stdout",
     "output_type": "stream",
     "text": [
      "Nearest Neighbor found at index [57387] with distance 24.680951617320286 in original space\n",
      "Original Nearest Neighbor found at index [29360] with distance 23.64971168325293\n"
     ]
    }
   ],
   "source": [
    "\n",
    "tree = nn_create_kd_tree(A@X)\n",
    "\n",
    "(idx, nn) = nn_query_kd_tree(A@y, tree)\n",
    "\n",
    "reduced_dim_kdtree_distance = distance(y, X[:,idx])\n",
    "print(f'Nearest Neighbor found at index {idx} with distance {reduced_dim_kdtree_distance} in original space')\n",
    "print(f'Original Nearest Neighbor found at index {kdtree_idx} with distance {kdtree_distance}')\n",
    "\n"
   ]
  },
  {
   "cell_type": "markdown",
   "metadata": {},
   "source": [
    "## Performance\n",
    "\n",
    "Run the following code blocks to time your brute force and kd-tree implementations on the projected data set."
   ]
  },
  {
   "cell_type": "code",
   "execution_count": 21,
   "metadata": {},
   "outputs": [
    {
     "name": "stdout",
     "output_type": "stream",
     "text": [
      "Reduced Dimension Brute Force:\n",
      "    Total Query Time: 57.02994078793563 seconds\n",
      "    Average Query Time: 0.5702994078793563 seconds\n",
      "    Dimension Reduction Time: 0.06326529709622264 seconds\n",
      "    Total Time: 57.09320608503185 seconds\n",
      "\n",
      "Brute Force Total Time (original dimension): 70.07050713803619 seconds\n"
     ]
    }
   ],
   "source": [
    "start = time.perf_counter()\n",
    "reduced_X = A@X\n",
    "reduced_queries = A@queries\n",
    "stop = time.perf_counter()\n",
    "dim_reduct_time = stop - start\n",
    "\n",
    "start = time.perf_counter()\n",
    "for query in reduced_queries.T:\n",
    "    (idx, nn) = nn_brute_force(query, reduced_X)\n",
    "stop = time.perf_counter()\n",
    "query_time = stop - start\n",
    "\n",
    "reduced_dim_brute_force_total_time = query_time + dim_reduct_time\n",
    "\n",
    "print('Reduced Dimension Brute Force:')\n",
    "print(f'    Total Query Time: {query_time} seconds')\n",
    "print(f'    Average Query Time: {query_time/num_time_tests} seconds')\n",
    "print(f'    Dimension Reduction Time: {dim_reduct_time} seconds')\n",
    "print(f'    Total Time: {reduced_dim_brute_force_total_time} seconds')\n",
    "\n",
    "print(f'\\nBrute Force Total Time (original dimension): {brute_force_total_time} seconds')\n",
    "\n"
   ]
  },
  {
   "cell_type": "code",
   "execution_count": 22,
   "metadata": {},
   "outputs": [
    {
     "name": "stdout",
     "output_type": "stream",
     "text": [
      "Reduced Dimension KDTree:\n",
      "    Total Query Time: 43.241621741093695 seconds\n",
      "    Average Query Time: 0.43241621741093694 seconds\n",
      "    Tree Build Time: 0.8915565290953964 seconds\n",
      "    Dimension Reduction Time: 0.07099281996488571 seconds\n",
      "    Total Time: 44.20417109015398 seconds\n",
      "\n",
      "KDTree Total Time (original dimension): 72.45780896721408 seconds\n"
     ]
    }
   ],
   "source": [
    "start = time.perf_counter()\n",
    "reduced_X = A@X\n",
    "reduced_queries = A@queries\n",
    "stop = time.perf_counter()\n",
    "dim_reduct_time = stop - start\n",
    "\n",
    "# test {num_time_tests} reduced queries using kdtree\n",
    "start = time.perf_counter()\n",
    "tree = nn_create_kd_tree(reduced_X)  \n",
    "stop = time.perf_counter()\n",
    "tree_build_time = stop - start\n",
    "\n",
    "start = time.perf_counter()\n",
    "for query in reduced_queries.T:\n",
    "    (idx, nn) = nn_query_kd_tree(query, tree)\n",
    "stop = time.perf_counter()\n",
    "query_time = stop - start\n",
    "\n",
    "reduced_dim_kdtree_total_time = query_time + tree_build_time + dim_reduct_time\n",
    "\n",
    "print('Reduced Dimension KDTree:')\n",
    "print(f'    Total Query Time: {query_time} seconds')\n",
    "print(f'    Average Query Time: {query_time/num_time_tests} seconds')\n",
    "print(f'    Tree Build Time: {tree_build_time} seconds')\n",
    "print(f'    Dimension Reduction Time: {dim_reduct_time} seconds')\n",
    "print(f'    Total Time: {reduced_dim_kdtree_total_time} seconds')\n",
    "\n",
    "print(f'\\nKDTree Total Time (original dimension): {kdtree_total_time} seconds')\n"
   ]
  },
  {
   "cell_type": "markdown",
   "metadata": {},
   "source": [
    "## Distortion\n",
    "\n",
    "The distortion is computed as the $\\max_i \\frac{\\|f(X_i)\\|_2}{\\|X_i\\|_2} \\cdot \\max_i \\frac{\\|X_i\\|_2}{\\|f(X_i)\\|_2}$, where $f(X_i) = AX_i$ is the projection $X_i$, the ith column of `X`.\n",
    "\n",
    "\n"
   ]
  },
  {
   "cell_type": "code",
   "execution_count": 23,
   "metadata": {},
   "outputs": [],
   "source": [
    "\n",
    "def compute_distortion(X, T_X):\n",
    "    \"\"\"\n",
    "    Computes and returns the distortion between the set of data points (columns in x)\n",
    "    and their image (columns in T_x).  The distortion is computed as \n",
    "    max_{i \\ne j} (|| T_X_i - T_X_j || / || X_i - X_j ||) * max_{i \\ne j} (|| X_i - X_j || / || T_X_i - T_X_j ||)\n",
    "    , where T_X_i and X_i are the\n",
    "    ith columns of T_X and X, respectively and max_i is the max over all i.  Also, ||a|| \n",
    "    here refers to the L2 norm.\n",
    "    \"\"\"\n",
    "    maximum = 0\n",
    "    minimum = 1e+10\n",
    "    for i in range(1,X.shape[1]):\n",
    "        for j in range(i):\n",
    "            Ratio = distance(T_X[:,i],T_X[:,j])/distance(X[:,i],X[:,j])\n",
    "            if Ratio>maximum:\n",
    "                maximum = Ratio\n",
    "            if Ratio<minimum:\n",
    "                minimum = Ratio\n",
    "    return maximum/minimum\n"
   ]
  },
  {
   "cell_type": "markdown",
   "metadata": {},
   "source": [
    "### Test Code\n",
    "\n"
   ]
  },
  {
   "cell_type": "code",
   "execution_count": 24,
   "metadata": {},
   "outputs": [
    {
     "name": "stdout",
     "output_type": "stream",
     "text": [
      "map_distortion = 2.2050616883874166\n",
      "2.2050616883874166 <= 3.0\n",
      "  The linear map, A, satifies the theoretical bound.\n"
     ]
    }
   ],
   "source": [
    "\n",
    "reduced_X = A@X\n",
    "\n",
    "subset_size = min(1000, num_elements)\n",
    "subset_elements = np.random.choice(num_elements, subset_size, replace=False)\n",
    "\n",
    "map_distortion = compute_distortion(X[:,subset_elements], reduced_X[:,subset_elements])\n",
    "print('map_distortion =', map_distortion)\n",
    "print(f'{map_distortion} <= {(1 + epsilon) / (1 - epsilon)}')\n",
    "if map_distortion <= (1 + epsilon) / (1 - epsilon):\n",
    "    print(f'  The linear map, A, satifies the theoretical bound.')\n",
    "else:\n",
    "    print(f'  The linear map, A, does not satisfy the theoretical bound.')\n",
    "\n"
   ]
  },
  {
   "cell_type": "markdown",
   "metadata": {},
   "source": [
    "## Iteration\n",
    "\n",
    "Even if the distortion imposed by the linear map is small the resulting nearest neighbor in the reduced space may not be the nearest neighbor in the original space.  This can be seen by running many instances of random projections and comparing their results.\n",
    "\n",
    "  \n",
    "\n"
   ]
  },
  {
   "cell_type": "code",
   "execution_count": 25,
   "metadata": {},
   "outputs": [],
   "source": [
    "def iterate_reduced_nn(X, y, reduced_dimension, num_trials=10):\n",
    "    \"\"\"\n",
    "    This function performs a number of nearest neighbor trials, each of which \n",
    "    consists of the projection of the input data set x and test point y to a \n",
    "    lower dimension and the nearest neighbor of the test point is sought in \n",
    "    the data set (in the lower dimension).  The nearest neighbor computation \n",
    "    will be performed by first creating a scipy.spatial.KDTree with the \n",
    "    projected x and then querying it using the projected y.  The index of each\n",
    "    identified nearest neighbor will be added to a list and only the unique\n",
    "    indices returned (no duplicates).\n",
    "    \n",
    "    X - A column based data set from which the nearest neighbor to y is sought\n",
    "    y - A test point with length equal to column length of X, which is to be used\n",
    "        as a query point\n",
    "    reduced_dimension - An integer representing the dimension of the reduced space\n",
    "        in which the nearest neighbor computation will be performed.\n",
    "    num_trials - The number of projection matrices to be tested.\n",
    "    \"\"\"\n",
    "    unique_indices = []\n",
    "    for num_trial in range(num_trials):\n",
    "        A = create_projection_matrix(reduced_dimension,y.shape[0])\n",
    "        tree = nn_create_kd_tree(A@X)\n",
    "        (idx, nn) = nn_query_kd_tree(A@y, tree)\n",
    "        unique_indices.append(idx[0])    \n",
    "    return list(set(unique_indices))\n",
    "        \n"
   ]
  },
  {
   "cell_type": "code",
   "execution_count": 26,
   "metadata": {},
   "outputs": [
    {
     "name": "stdout",
     "output_type": "stream",
     "text": [
      "10 different solutions found.\n"
     ]
    }
   ],
   "source": [
    "possible_solutions = iterate_reduced_nn(X, y, reduced_dimension)\n",
    "\n",
    "print(f'{len(possible_solutions)} different solutions found.')"
   ]
  },
  {
   "cell_type": "code",
   "execution_count": 27,
   "metadata": {},
   "outputs": [],
   "source": [
    "\n",
    "def nn_iterative(X, y, reduced_dimension, num_trials=10):\n",
    "    \"\"\"\n",
    "    Perfrom a number of approximate nearest neighbor trials in a reduced space. \n",
    "    The results of those trials are used to select a subset of the data points in \n",
    "    X and repeat the nearest neighbor computation in the original dimension using\n",
    "    only the selected data points.  The function returns a tuple containing the \n",
    "    index of the nearest neighbor in the original data set along with the nearest \n",
    "    neighbor itself reshaped to match the shape of test_point. \n",
    "    \n",
    "    X - A column based data set from which the nearest neighbor to y is sought\n",
    "    y - A test point with length equal to column length of X, which is to be used\n",
    "        as a query point\n",
    "    reduced_dimension - An integer representing the dimension of the reduced space\n",
    "        in which the nearest neighbor computation will be performed.\n",
    "    num_trials - The number of projection matrices to be tested.\n",
    "    \"\"\"\n",
    "    indices = iterate_reduced_nn(X, y, reduced_dimension, num_trials)\n",
    "    tree = nn_create_kd_tree(X[:,indices])\n",
    "    (idx, nn) = nn_query_kd_tree(y, tree)\n",
    "    return (indices[idx], nn.reshape(y.shape))    \n",
    "    \n",
    "    \n"
   ]
  },
  {
   "cell_type": "markdown",
   "metadata": {},
   "source": [
    "### Test Code\n"
   ]
  },
  {
   "cell_type": "code",
   "execution_count": 28,
   "metadata": {},
   "outputs": [
    {
     "name": "stdout",
     "output_type": "stream",
     "text": [
      "Nearest Neighbor found at index [8] with distance 25.00154605367263\n",
      "Brute Force and Iterative give different results.  Brute Force distance = 23.64971168325293\n"
     ]
    }
   ],
   "source": [
    "\n",
    "(idx, nn) = nn_iterative(X, y, reduced_dimension)\n",
    "\n",
    "iterative_distance = distance(y, nn)\n",
    "print(f'Nearest Neighbor found at index {idx} with distance {iterative_distance}')\n",
    "if iterative_distance != brute_force_distance:\n",
    "    print(f'Brute Force and Iterative give different results.  Brute Force distance = {brute_force_distance}')\n",
    "else:\n",
    "    print('Brute Force and Iterative give the same distance.')\n",
    "\n"
   ]
  },
  {
   "cell_type": "code",
   "execution_count": 29,
   "metadata": {},
   "outputs": [],
   "source": [
    "\n",
    "max_num_iterations = math.ceil(math.log(num_elements,2))\n",
    "\n",
    "iteration_based_distances = []\n",
    "for n in range(1,max_num_iterations+1):\n",
    "    (idx, nn) = nn_iterative(X, y, reduced_dimension, n)\n",
    "    iteration_based_distances.append(distance(y, nn))\n",
    "\n"
   ]
  },
  {
   "cell_type": "code",
   "execution_count": 30,
   "metadata": {},
   "outputs": [
    {
     "data": {
      "image/png": "[encoded data removed]",
      "text/plain": [
       "<Figure size 432x288 with 1 Axes>"
      ]
     },
     "metadata": {
      "needs_background": "light"
     },
     "output_type": "display_data"
    }
   ],
   "source": [
    "plt.plot(iteration_based_distances)\n",
    "plt.title('Increase Number of Iterations with Fixed Map Size')\n",
    "plt.xticks(range(max_num_iterations), range(1,max_num_iterations+1))\n",
    "plt.xlabel('Number of Iterations')\n",
    "plt.ylabel('Distance')\n",
    "plt.show()    \n"
   ]
  },
  {
   "cell_type": "markdown",
   "metadata": {},
   "source": [
    "## Choice of Dimension\n"
   ]
  },
  {
   "cell_type": "code",
   "execution_count": 31,
   "metadata": {},
   "outputs": [],
   "source": [
    "\n",
    "max_reduced_dimension = 500\n",
    "step_size = 10\n",
    "\n",
    "dimension_based_distances = []\n",
    "for n in range(10,max_reduced_dimension+1, step_size):\n",
    "    (idx, nn) = nn_iterative(X, y, n, 1)\n",
    "    dimension_based_distances.append(distance(y, nn))\n",
    "\n",
    "    \n"
   ]
  },
  {
   "cell_type": "code",
   "execution_count": 32,
   "metadata": {},
   "outputs": [
    {
     "data": {
      "image/png": "[encoded data removed]",
      "text/plain": [
       "<Figure size 432x288 with 1 Axes>"
      ]
     },
     "metadata": {
      "needs_background": "light"
     },
     "output_type": "display_data"
    }
   ],
   "source": [
    "plt.plot(range(10,max_reduced_dimension+1, step_size),dimension_based_distances)\n",
    "plt.title('Increase Size of Reduced Dimension with no iteration')\n",
    "plt.xlabel('Reduced Dimension Size')\n",
    "plt.ylabel('Distance')\n",
    "plt.show()    \n"
   ]
  },
  {
   "cell_type": "markdown",
   "metadata": {},
   "source": [
    "## Iteration vs Dimension\n",
    "\n",
    "Run the given code blocks to compute the distances of the nearest neighbors generated with your implementation of `nn_iterative` using projections of varying size with varying numbers of iterations."
   ]
  },
  {
   "cell_type": "code",
   "execution_count": 33,
   "metadata": {},
   "outputs": [],
   "source": [
    "\n",
    "iteration_based_distances_10 = []\n",
    "for n in range(1,max_num_iterations+1):\n",
    "    (idx, nn) = nn_iterative(X, y, 10, n)\n",
    "    iteration_based_distances_10.append(distance(y, nn))\n",
    "\n",
    "iteration_based_distances_500 = []\n",
    "for n in range(1,max_num_iterations+1):\n",
    "    (idx, nn) = nn_iterative(X, y, 500, n)\n",
    "    iteration_based_distances_500.append(distance(y, nn))   \n"
   ]
  },
  {
   "cell_type": "code",
   "execution_count": 34,
   "metadata": {},
   "outputs": [
    {
     "data": {
      "image/png": "[encoded data removed]",
      "text/plain": [
       "<Figure size 432x288 with 1 Axes>"
      ]
     },
     "metadata": {
      "needs_background": "light"
     },
     "output_type": "display_data"
    }
   ],
   "source": [
    "\n",
    "plt.plot(iteration_based_distances_10)\n",
    "plt.plot(iteration_based_distances) # computed in Iteration section\n",
    "plt.plot(iteration_based_distances_500)\n",
    "\n",
    "plt.title('Increase Number of Iterations and Reduced Dimension')\n",
    "plt.xticks(range(max_num_iterations), range(1,max_num_iterations+1))\n",
    "plt.xlabel('Number of Iterations')\n",
    "plt.ylabel('Distance')\n",
    "plt.legend(['10', f'{reduced_dimension}', '500'])\n",
    "plt.show()    \n"
   ]
  }
 ],
 "metadata": {
  "kernelspec": {
   "display_name": "Python 3",
   "language": "python",
   "name": "python3"
  },
  "language_info": {
   "codemirror_mode": {
    "name": "ipython",
    "version": 3
   },
   "file_extension": ".py",
   "mimetype": "text/x-python",
   "name": "python",
   "nbconvert_exporter": "python",
   "pygments_lexer": "ipython3",
   "version": "3.7.6"
  }
 },
 "nbformat": 4,
 "nbformat_minor": 4
}
